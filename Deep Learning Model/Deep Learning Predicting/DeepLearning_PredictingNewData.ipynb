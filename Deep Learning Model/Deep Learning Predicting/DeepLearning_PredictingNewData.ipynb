{
  "nbformat": 4,
  "nbformat_minor": 0,
  "metadata": {
    "kernelspec": {
      "display_name": "Python [conda env:py3-TF2.0]",
      "language": "python",
      "name": "conda-env-py3-TF2.0-py"
    },
    "language_info": {
      "codemirror_mode": {
        "name": "ipython",
        "version": 3
      },
      "file_extension": ".py",
      "mimetype": "text/x-python",
      "name": "python",
      "nbconvert_exporter": "python",
      "pygments_lexer": "ipython3",
      "version": "3.7.5"
    },
    "colab": {
      "name": "DeepLearning_PredictingNewData 12.11.ipynb",
      "provenance": []
    }
  },
  "cells": [
    {
      "cell_type": "markdown",
      "metadata": {
        "id": "qPim9M7ydrdO"
      },
      "source": [
        "# Predicting on new data"
      ]
    },
    {
      "cell_type": "markdown",
      "metadata": {
        "id": "a_Gd21RMdrdP"
      },
      "source": [
        "## Import the relevant libraries"
      ]
    },
    {
      "cell_type": "code",
      "metadata": {
        "id": "QmYt_mUedrdP"
      },
      "source": [
        "import numpy as np\n",
        "import tensorflow as tf\n",
        "import pickle"
      ],
      "execution_count": 1,
      "outputs": []
    },
    {
      "cell_type": "markdown",
      "metadata": {
        "id": "EE6kIRuYdrdQ"
      },
      "source": [
        "## Load the scaler and the model"
      ]
    },
    {
      "cell_type": "code",
      "metadata": {
        "colab": {
          "base_uri": "https://localhost:8080/"
        },
        "id": "V7oN7Pa1d2bv",
        "outputId": "08587117-337c-44bd-92ff-14c33c397078"
      },
      "source": [
        "from google.colab import drive\n",
        "drive.mount('/content/drive')"
      ],
      "execution_count": 2,
      "outputs": [
        {
          "output_type": "stream",
          "text": [
            "Drive already mounted at /content/drive; to attempt to forcibly remount, call drive.mount(\"/content/drive\", force_remount=True).\n"
          ],
          "name": "stdout"
        }
      ]
    },
    {
      "cell_type": "code",
      "metadata": {
        "colab": {
          "base_uri": "https://localhost:8080/"
        },
        "id": "dB8QUlMkdrdQ",
        "outputId": "1f2cf379-2b9c-4e7e-e684-e3395d1fccb5"
      },
      "source": [
        "#Load scaler and model\n",
        "scaler_deep_learning = pickle.load(open('/content/drive/My Drive/Customer Analytics/scaler_deep_learning.pickle', 'rb'))\n",
        "model = tf.keras.models.load_model('/content/drive/My Drive/Customer Analytics/audiobooks_model.h5')"
      ],
      "execution_count": 3,
      "outputs": [
        {
          "output_type": "stream",
          "text": [
            "/usr/local/lib/python3.7/dist-packages/sklearn/utils/deprecation.py:144: FutureWarning: The sklearn.preprocessing.data module is  deprecated in version 0.22 and will be removed in version 0.24. The corresponding classes / functions should instead be imported from sklearn.preprocessing. Anything that cannot be imported from sklearn.preprocessing is now part of the private API.\n",
            "  warnings.warn(message, FutureWarning)\n",
            "/usr/local/lib/python3.7/dist-packages/sklearn/base.py:318: UserWarning: Trying to unpickle estimator StandardScaler from version 0.21.3 when using version 0.22.2.post1. This might lead to breaking code or invalid results. Use at your own risk.\n",
            "  UserWarning)\n"
          ],
          "name": "stderr"
        }
      ]
    },
    {
      "cell_type": "markdown",
      "metadata": {
        "id": "2YKVatdndrdR"
      },
      "source": [
        "## Load the new data"
      ]
    },
    {
      "cell_type": "code",
      "metadata": {
        "id": "jy0pQKUwdrdR"
      },
      "source": [
        "raw_data = np.loadtxt('/content/drive/My Drive/Customer Analytics/New_Audiobooks_Data.csv', delimiter = ',')\n",
        "new_data_inputs = raw_data[:,1:]"
      ],
      "execution_count": 4,
      "outputs": []
    },
    {
      "cell_type": "markdown",
      "metadata": {
        "id": "CNOneTZOdrdR"
      },
      "source": [
        "## Predict the probability of a customer to convert"
      ]
    },
    {
      "cell_type": "code",
      "metadata": {
        "id": "ZG_SY13YdrdS"
      },
      "source": [
        "#Scale the data as the sameway did for training dataset.\n",
        "new_data_inputs_scaled = scaler_deep_learning.transform(new_data_inputs)"
      ],
      "execution_count": 5,
      "outputs": []
    },
    {
      "cell_type": "code",
      "metadata": {
        "colab": {
          "base_uri": "https://localhost:8080/"
        },
        "id": "tpwT67FbdrdS",
        "outputId": "c9a56c00-c2a3-42e1-f2f7-1d6e223d46a7"
      },
      "source": [
        "#Predict the probability of converting\n",
        "model.predict(new_data_inputs_scaled)[:,1].round(2)"
      ],
      "execution_count": 6,
      "outputs": [
        {
          "output_type": "execute_result",
          "data": {
            "text/plain": [
              "array([0.  , 0.  , 0.06, 1.  , 0.  , 0.05, 0.04, 0.04, 0.04, 0.84, 0.  ,\n",
              "       0.79, 0.89, 0.  , 0.06, 0.09, 0.84, 0.76, 0.84, 0.99, 1.  , 1.  ,\n",
              "       1.  , 0.  , 0.  , 0.99, 0.35, 0.  , 1.  , 1.  ], dtype=float32)"
            ]
          },
          "metadata": {
            "tags": []
          },
          "execution_count": 6
        }
      ]
    },
    {
      "cell_type": "code",
      "metadata": {
        "colab": {
          "base_uri": "https://localhost:8080/"
        },
        "id": "1ofHe4fUdrdS",
        "outputId": "04d65d10-baf8-4eb7-f0b4-f5e77474bf87"
      },
      "source": [
        "#Utilize argmax funtion to get better results\n",
        "np.argmax(model.predict(new_data_inputs_scaled),1)"
      ],
      "execution_count": 7,
      "outputs": [
        {
          "output_type": "execute_result",
          "data": {
            "text/plain": [
              "array([0, 0, 0, 1, 0, 0, 0, 0, 0, 1, 0, 1, 1, 0, 0, 0, 1, 1, 1, 1, 1, 1,\n",
              "       1, 0, 0, 1, 0, 0, 1, 1])"
            ]
          },
          "metadata": {
            "tags": []
          },
          "execution_count": 7
        }
      ]
    }
  ]
}