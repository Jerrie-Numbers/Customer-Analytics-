{
  "nbformat": 4,
  "nbformat_minor": 0,
  "metadata": {
    "kernelspec": {
      "display_name": "Python [conda env:py3-TF2.0]",
      "language": "python",
      "name": "conda-env-py3-TF2.0-py"
    },
    "language_info": {
      "codemirror_mode": {
        "name": "ipython",
        "version": 3
      },
      "file_extension": ".py",
      "mimetype": "text/x-python",
      "name": "python",
      "nbconvert_exporter": "python",
      "pygments_lexer": "ipython3",
      "version": "3.7.5"
    },
    "colab": {
      "name": "DeepLearning_Modeling 12.10.ipynb",
      "provenance": []
    }
  },
  "cells": [
    {
      "cell_type": "markdown",
      "metadata": {
        "id": "TsdSUi7ngYc5"
      },
      "source": [
        "# Practical example. Audiobooks"
      ]
    },
    {
      "cell_type": "markdown",
      "metadata": {
        "id": "zPYLt63KgjiD"
      },
      "source": [
        "## Problem\n",
        "\n",
        "You are given data from an Audiobook app. Logically, it relates only to the audio versions of books. Each customer in the database has made a purchase at least once, that's why he/she is in the database. We want to create a machine learning algorithm based on our available data that can predict if a customer will buy again from the Audiobook company.\n",
        "\n",
        "The main idea is that if a customer has a low probability of coming back, there is no reason to spend any money on advertizing to him/her. If we can focus our efforts ONLY on customers that are likely to convert again, we can make great savings. Moreover, this model can identify the most important metrics for a customer to come back again. Identifying new customers creates value and growth opportunities.\n",
        "\n",
        "You have a .csv summarizing the data. There are several variables: Customer ID, Book length in mins_avg (average of all purchases), Book length in minutes_sum (sum of all purchases), Price Paid_avg (average of all purchases), Price paid_sum (sum of all purchases), Review (a Boolean variable), Review (out of 10), Total minutes listened, Completion (from 0 to 1), Support requests (number), and Last visited minus purchase date (in days).\n",
        "\n",
        "So these are the inputs (excluding customer ID, as it is completely arbitrary. It's more like a name, than a number).\n",
        "\n",
        "The targets are a Boolean variable (so 0, or 1). We are taking a period of 2 years in our inputs, and the next 6 months as targets. So, in fact, we are predicting if: based on the last 2 years of activity and engagement, a customer will convert in the next 6 months. 6 months sounds like a reasonable time. If they don't convert after 6 months, chances are they've gone to a competitor or didn't like the Audiobook way of digesting information. \n",
        "\n",
        "The task is simple: create a machine learning algorithm, which is able to predict if a customer will buy again. \n",
        "\n",
        "This is a classification problem with two classes: won't buy and will buy, represented by 0s and 1s. \n",
        "\n",
        "Good luck!"
      ]
    },
    {
      "cell_type": "markdown",
      "metadata": {
        "id": "Pts8oesPgYc7"
      },
      "source": [
        "## Create the machine learning algorithm\n",
        "\n"
      ]
    },
    {
      "cell_type": "markdown",
      "metadata": {
        "id": "hHKYWII_gYc8"
      },
      "source": [
        "### Import the relevant libraries"
      ]
    },
    {
      "cell_type": "code",
      "metadata": {
        "id": "BrefLnvRgYc8"
      },
      "source": [
        "import numpy as np\n",
        "import tensorflow as tf"
      ],
      "execution_count": 1,
      "outputs": []
    },
    {
      "cell_type": "markdown",
      "metadata": {
        "id": "nLtOMz_PgYc9"
      },
      "source": [
        "### Data"
      ]
    },
    {
      "cell_type": "code",
      "metadata": {
        "colab": {
          "base_uri": "https://localhost:8080/"
        },
        "id": "pXsVeOt1iASb",
        "outputId": "c15cc499-5f60-487b-c873-941f737f70e7"
      },
      "source": [
        "from google.colab import drive\n",
        "drive.mount('/content/drive')"
      ],
      "execution_count": 2,
      "outputs": [
        {
          "output_type": "stream",
          "text": [
            "Drive already mounted at /content/drive; to attempt to forcibly remount, call drive.mount(\"/content/drive\", force_remount=True).\n"
          ],
          "name": "stdout"
        }
      ]
    },
    {
      "cell_type": "code",
      "metadata": {
        "id": "uCiHjj1LgYc9"
      },
      "source": [
        "#Load the npz file we created\n",
        "npz = np.load('/content/drive/My Drive/Customer Analytics/Audiobooks_data_train.npz')\n",
        "\n",
        "train_inputs = npz['inputs'].astype(np.float)\n",
        "train_targets = npz['targets'].astype(np.int)\n",
        "\n",
        "npz = np.load('/content/drive/My Drive/Customer Analytics/Audiobooks_data_validation.npz')\n",
        "validation_inputs, validation_targets = npz['inputs'].astype(np.float), npz['targets'].astype(np.int)\n",
        "\n",
        "npz = np.load('/content/drive/My Drive/Customer Analytics/Audiobooks_data_test.npz')\n",
        "test_inputs, test_targets = npz['inputs'].astype(np.float), npz['targets'].astype(np.int)"
      ],
      "execution_count": 3,
      "outputs": []
    },
    {
      "cell_type": "markdown",
      "metadata": {
        "id": "Isjg13Z8gYc9"
      },
      "source": [
        "### Model\n",
        "Outline, optimizers, loss, early stopping and training"
      ]
    },
    {
      "cell_type": "code",
      "metadata": {
        "colab": {
          "base_uri": "https://localhost:8080/"
        },
        "id": "s2HmftehgYc9",
        "outputId": "a4eb3b54-0e79-47f4-be1f-1696f0e2e0d9"
      },
      "source": [
        "#input_size = 10\n",
        "#Set the output size\n",
        "output_size = 2\n",
        "hidden_layer_size = 50\n",
        "\n",
        "#Define the model\n",
        "model = tf.keras.Sequential([\n",
        "                            tf.keras.layers.Dense(hidden_layer_size, activation='relu'),\n",
        "                            tf.keras.layers.Dense(hidden_layer_size, activation='relu'),\n",
        "                            tf.keras.layers.Dense(output_size, activation='softmax')    \n",
        "                            ])\n",
        "#Choose the optimizer and the loss function\n",
        "model.compile(optimizer='adam', loss='sparse_categorical_crossentropy', metrics = ['accuracy'])\n",
        "\n",
        "#Training the function, set the batch size, max epochs and early stopping \n",
        "batch_size = 100\n",
        "\n",
        "max_epochs=100\n",
        "\n",
        "early_stopping = tf.keras.callbacks.EarlyStopping(patience=2)\n",
        "\n",
        "#Fit the model\n",
        "model.fit(train_inputs,\n",
        "          train_targets,\n",
        "          batch_size=batch_size,\n",
        "          epochs=max_epochs,\n",
        "          callbacks=[early_stopping],\n",
        "          validation_data=(validation_inputs, validation_targets),\n",
        "          verbose=2\n",
        "          )"
      ],
      "execution_count": 4,
      "outputs": [
        {
          "output_type": "stream",
          "text": [
            "Epoch 1/100\n",
            "36/36 - 1s - loss: 0.5394 - accuracy: 0.7910 - val_loss: 0.4171 - val_accuracy: 0.8904\n",
            "Epoch 2/100\n",
            "36/36 - 0s - loss: 0.3730 - accuracy: 0.8734 - val_loss: 0.3145 - val_accuracy: 0.8949\n",
            "Epoch 3/100\n",
            "36/36 - 0s - loss: 0.3215 - accuracy: 0.8829 - val_loss: 0.2829 - val_accuracy: 0.9083\n",
            "Epoch 4/100\n",
            "36/36 - 0s - loss: 0.3013 - accuracy: 0.8846 - val_loss: 0.2683 - val_accuracy: 0.9083\n",
            "Epoch 5/100\n",
            "36/36 - 0s - loss: 0.2884 - accuracy: 0.8908 - val_loss: 0.2560 - val_accuracy: 0.9150\n",
            "Epoch 6/100\n",
            "36/36 - 0s - loss: 0.2783 - accuracy: 0.8938 - val_loss: 0.2486 - val_accuracy: 0.9150\n",
            "Epoch 7/100\n",
            "36/36 - 0s - loss: 0.2710 - accuracy: 0.8986 - val_loss: 0.2353 - val_accuracy: 0.9239\n",
            "Epoch 8/100\n",
            "36/36 - 0s - loss: 0.2659 - accuracy: 0.8963 - val_loss: 0.2323 - val_accuracy: 0.9195\n",
            "Epoch 9/100\n",
            "36/36 - 0s - loss: 0.2606 - accuracy: 0.9022 - val_loss: 0.2275 - val_accuracy: 0.9217\n",
            "Epoch 10/100\n",
            "36/36 - 0s - loss: 0.2563 - accuracy: 0.9011 - val_loss: 0.2234 - val_accuracy: 0.9262\n",
            "Epoch 11/100\n",
            "36/36 - 0s - loss: 0.2528 - accuracy: 0.9022 - val_loss: 0.2191 - val_accuracy: 0.9217\n",
            "Epoch 12/100\n",
            "36/36 - 0s - loss: 0.2517 - accuracy: 0.9030 - val_loss: 0.2220 - val_accuracy: 0.9239\n",
            "Epoch 13/100\n",
            "36/36 - 0s - loss: 0.2471 - accuracy: 0.9039 - val_loss: 0.2160 - val_accuracy: 0.9239\n",
            "Epoch 14/100\n",
            "36/36 - 0s - loss: 0.2461 - accuracy: 0.9070 - val_loss: 0.2150 - val_accuracy: 0.9306\n",
            "Epoch 15/100\n",
            "36/36 - 0s - loss: 0.2431 - accuracy: 0.9081 - val_loss: 0.2158 - val_accuracy: 0.9284\n",
            "Epoch 16/100\n",
            "36/36 - 0s - loss: 0.2417 - accuracy: 0.9089 - val_loss: 0.2120 - val_accuracy: 0.9284\n",
            "Epoch 17/100\n",
            "36/36 - 0s - loss: 0.2399 - accuracy: 0.9109 - val_loss: 0.2118 - val_accuracy: 0.9306\n",
            "Epoch 18/100\n",
            "36/36 - 0s - loss: 0.2388 - accuracy: 0.9106 - val_loss: 0.2127 - val_accuracy: 0.9239\n",
            "Epoch 19/100\n",
            "36/36 - 0s - loss: 0.2394 - accuracy: 0.9089 - val_loss: 0.2108 - val_accuracy: 0.9306\n",
            "Epoch 20/100\n",
            "36/36 - 0s - loss: 0.2344 - accuracy: 0.9111 - val_loss: 0.2147 - val_accuracy: 0.9329\n",
            "Epoch 21/100\n",
            "36/36 - 0s - loss: 0.2345 - accuracy: 0.9134 - val_loss: 0.2102 - val_accuracy: 0.9284\n",
            "Epoch 22/100\n",
            "36/36 - 0s - loss: 0.2329 - accuracy: 0.9117 - val_loss: 0.2117 - val_accuracy: 0.9329\n",
            "Epoch 23/100\n",
            "36/36 - 0s - loss: 0.2331 - accuracy: 0.9106 - val_loss: 0.2116 - val_accuracy: 0.9284\n"
          ],
          "name": "stdout"
        },
        {
          "output_type": "execute_result",
          "data": {
            "text/plain": [
              "<tensorflow.python.keras.callbacks.History at 0x7f85a45d84d0>"
            ]
          },
          "metadata": {
            "tags": []
          },
          "execution_count": 4
        }
      ]
    },
    {
      "cell_type": "markdown",
      "metadata": {
        "id": "qHk1nr7SgYc-"
      },
      "source": [
        "## Test the model"
      ]
    },
    {
      "cell_type": "code",
      "metadata": {
        "scrolled": true,
        "colab": {
          "base_uri": "https://localhost:8080/"
        },
        "id": "klry1efcgYc-",
        "outputId": "93699fb8-27f6-4ffb-ccab-a632b6e7c2f7"
      },
      "source": [
        "#Utilize the evaluate function to get the loss and accuracy.\n",
        "test_loss, test_accuracy = model.evaluate(test_inputs, test_targets)"
      ],
      "execution_count": 5,
      "outputs": [
        {
          "output_type": "stream",
          "text": [
            "14/14 [==============================] - 0s 1ms/step - loss: 0.2406 - accuracy: 0.9107\n"
          ],
          "name": "stdout"
        }
      ]
    },
    {
      "cell_type": "code",
      "metadata": {
        "scrolled": true,
        "colab": {
          "base_uri": "https://localhost:8080/"
        },
        "id": "FMlEPwf2gYc-",
        "outputId": "b77011f6-fd37-4306-c0ec-7d3a3f448f33"
      },
      "source": [
        "#Print formatted result\n",
        "print('\\nTest loss: {0:.2f}. Test accuracy: {1:.2f}%'.format(test_loss, test_accuracy*100.))"
      ],
      "execution_count": 6,
      "outputs": [
        {
          "output_type": "stream",
          "text": [
            "\n",
            "Test loss: 0.24. Test accuracy: 91.07%\n"
          ],
          "name": "stdout"
        }
      ]
    },
    {
      "cell_type": "markdown",
      "metadata": {
        "id": "fcyB236ygYc_"
      },
      "source": [
        "## Obtain the probability for a customer to convert"
      ]
    },
    {
      "cell_type": "code",
      "metadata": {
        "colab": {
          "base_uri": "https://localhost:8080/"
        },
        "id": "fjkablG_gYc_",
        "outputId": "eaa2f3e9-b131-4d16-eb3f-21fe3a2ff85c"
      },
      "source": [
        "#Predict the probability of test dataset.\n",
        "model.predict(test_inputs).round(2)"
      ],
      "execution_count": 7,
      "outputs": [
        {
          "output_type": "execute_result",
          "data": {
            "text/plain": [
              "array([[0.  , 1.  ],\n",
              "       [0.02, 0.98],\n",
              "       [0.88, 0.12],\n",
              "       [0.  , 1.  ],\n",
              "       [0.02, 0.98],\n",
              "       [0.91, 0.09],\n",
              "       [0.96, 0.04],\n",
              "       [0.17, 0.83],\n",
              "       [0.22, 0.78],\n",
              "       [0.  , 1.  ],\n",
              "       [0.94, 0.06],\n",
              "       [1.  , 0.  ],\n",
              "       [1.  , 0.  ],\n",
              "       [0.92, 0.08],\n",
              "       [1.  , 0.  ],\n",
              "       [0.83, 0.17],\n",
              "       [1.  , 0.  ],\n",
              "       [0.  , 1.  ],\n",
              "       [0.  , 1.  ],\n",
              "       [1.  , 0.  ],\n",
              "       [0.03, 0.97],\n",
              "       [0.91, 0.09],\n",
              "       [0.71, 0.29],\n",
              "       [0.91, 0.09],\n",
              "       [0.85, 0.15],\n",
              "       [0.97, 0.03],\n",
              "       [0.5 , 0.5 ],\n",
              "       [0.  , 1.  ],\n",
              "       [0.94, 0.06],\n",
              "       [0.  , 1.  ],\n",
              "       [0.89, 0.11],\n",
              "       [0.7 , 0.3 ],\n",
              "       [0.47, 0.53],\n",
              "       [0.54, 0.46],\n",
              "       [0.01, 0.99],\n",
              "       [0.69, 0.31],\n",
              "       [0.29, 0.71],\n",
              "       [0.17, 0.83],\n",
              "       [0.3 , 0.7 ],\n",
              "       [0.24, 0.76],\n",
              "       [0.01, 0.99],\n",
              "       [0.91, 0.09],\n",
              "       [0.  , 1.  ],\n",
              "       [0.  , 1.  ],\n",
              "       [0.98, 0.02],\n",
              "       [1.  , 0.  ],\n",
              "       [0.88, 0.12],\n",
              "       [0.99, 0.01],\n",
              "       [0.93, 0.07],\n",
              "       [0.96, 0.04],\n",
              "       [1.  , 0.  ],\n",
              "       [1.  , 0.  ],\n",
              "       [1.  , 0.  ],\n",
              "       [1.  , 0.  ],\n",
              "       [0.  , 1.  ],\n",
              "       [1.  , 0.  ],\n",
              "       [0.93, 0.07],\n",
              "       [0.31, 0.69],\n",
              "       [0.29, 0.71],\n",
              "       [1.  , 0.  ],\n",
              "       [0.12, 0.88],\n",
              "       [0.22, 0.78],\n",
              "       [0.9 , 0.1 ],\n",
              "       [0.16, 0.84],\n",
              "       [0.95, 0.05],\n",
              "       [0.95, 0.05],\n",
              "       [0.14, 0.86],\n",
              "       [0.08, 0.92],\n",
              "       [0.28, 0.72],\n",
              "       [0.9 , 0.1 ],\n",
              "       [0.11, 0.89],\n",
              "       [0.  , 1.  ],\n",
              "       [1.  , 0.  ],\n",
              "       [0.  , 1.  ],\n",
              "       [0.09, 0.91],\n",
              "       [0.21, 0.79],\n",
              "       [0.64, 0.36],\n",
              "       [0.94, 0.06],\n",
              "       [0.  , 1.  ],\n",
              "       [1.  , 0.  ],\n",
              "       [0.1 , 0.9 ],\n",
              "       [0.91, 0.09],\n",
              "       [1.  , 0.  ],\n",
              "       [0.84, 0.16],\n",
              "       [0.9 , 0.1 ],\n",
              "       [0.18, 0.82],\n",
              "       [0.29, 0.71],\n",
              "       [0.21, 0.79],\n",
              "       [0.  , 1.  ],\n",
              "       [0.17, 0.83],\n",
              "       [0.94, 0.06],\n",
              "       [1.  , 0.  ],\n",
              "       [0.87, 0.13],\n",
              "       [0.73, 0.27],\n",
              "       [0.72, 0.28],\n",
              "       [0.96, 0.04],\n",
              "       [0.45, 0.55],\n",
              "       [0.2 , 0.8 ],\n",
              "       [0.  , 1.  ],\n",
              "       [0.  , 1.  ],\n",
              "       [0.33, 0.67],\n",
              "       [0.02, 0.98],\n",
              "       [0.  , 1.  ],\n",
              "       [0.04, 0.96],\n",
              "       [0.  , 1.  ],\n",
              "       [0.86, 0.14],\n",
              "       [0.3 , 0.7 ],\n",
              "       [1.  , 0.  ],\n",
              "       [0.94, 0.06],\n",
              "       [0.19, 0.81],\n",
              "       [0.53, 0.47],\n",
              "       [0.62, 0.38],\n",
              "       [0.91, 0.09],\n",
              "       [0.33, 0.67],\n",
              "       [0.97, 0.03],\n",
              "       [0.1 , 0.9 ],\n",
              "       [0.94, 0.06],\n",
              "       [0.73, 0.27],\n",
              "       [0.  , 1.  ],\n",
              "       [0.17, 0.83],\n",
              "       [1.  , 0.  ],\n",
              "       [0.  , 1.  ],\n",
              "       [1.  , 0.  ],\n",
              "       [0.92, 0.08],\n",
              "       [0.79, 0.21],\n",
              "       [0.  , 1.  ],\n",
              "       [0.91, 0.09],\n",
              "       [0.  , 1.  ],\n",
              "       [0.02, 0.98],\n",
              "       [0.96, 0.04],\n",
              "       [0.96, 0.04],\n",
              "       [0.79, 0.21],\n",
              "       [0.91, 0.09],\n",
              "       [0.69, 0.31],\n",
              "       [1.  , 0.  ],\n",
              "       [0.9 , 0.1 ],\n",
              "       [0.79, 0.21],\n",
              "       [0.92, 0.08],\n",
              "       [0.95, 0.05],\n",
              "       [0.29, 0.71],\n",
              "       [0.89, 0.11],\n",
              "       [0.95, 0.05],\n",
              "       [0.9 , 0.1 ],\n",
              "       [0.98, 0.02],\n",
              "       [1.  , 0.  ],\n",
              "       [0.95, 0.05],\n",
              "       [0.78, 0.22],\n",
              "       [0.96, 0.04],\n",
              "       [0.19, 0.81],\n",
              "       [0.09, 0.91],\n",
              "       [0.89, 0.11],\n",
              "       [1.  , 0.  ],\n",
              "       [0.92, 0.08],\n",
              "       [0.91, 0.09],\n",
              "       [0.11, 0.89],\n",
              "       [1.  , 0.  ],\n",
              "       [0.95, 0.05],\n",
              "       [0.83, 0.17],\n",
              "       [0.  , 1.  ],\n",
              "       [0.41, 0.59],\n",
              "       [0.95, 0.05],\n",
              "       [0.47, 0.53],\n",
              "       [1.  , 0.  ],\n",
              "       [0.47, 0.53],\n",
              "       [0.  , 1.  ],\n",
              "       [1.  , 0.  ],\n",
              "       [1.  , 0.  ],\n",
              "       [0.11, 0.89],\n",
              "       [0.12, 0.88],\n",
              "       [0.13, 0.87],\n",
              "       [0.56, 0.44],\n",
              "       [0.94, 0.06],\n",
              "       [1.  , 0.  ],\n",
              "       [0.  , 1.  ],\n",
              "       [0.64, 0.36],\n",
              "       [0.76, 0.24],\n",
              "       [0.13, 0.87],\n",
              "       [0.31, 0.69],\n",
              "       [0.13, 0.87],\n",
              "       [0.93, 0.07],\n",
              "       [1.  , 0.  ],\n",
              "       [0.54, 0.46],\n",
              "       [0.29, 0.71],\n",
              "       [0.22, 0.78],\n",
              "       [0.07, 0.93],\n",
              "       [0.2 , 0.8 ],\n",
              "       [0.11, 0.89],\n",
              "       [0.  , 1.  ],\n",
              "       [0.92, 0.08],\n",
              "       [0.  , 1.  ],\n",
              "       [0.94, 0.06],\n",
              "       [1.  , 0.  ],\n",
              "       [1.  , 0.  ],\n",
              "       [1.  , 0.  ],\n",
              "       [0.  , 1.  ],\n",
              "       [0.09, 0.91],\n",
              "       [0.79, 0.21],\n",
              "       [0.9 , 0.1 ],\n",
              "       [0.05, 0.95],\n",
              "       [0.02, 0.98],\n",
              "       [0.  , 1.  ],\n",
              "       [0.11, 0.89],\n",
              "       [0.17, 0.83],\n",
              "       [0.89, 0.11],\n",
              "       [0.  , 1.  ],\n",
              "       [0.04, 0.96],\n",
              "       [0.34, 0.66],\n",
              "       [0.01, 0.99],\n",
              "       [0.85, 0.15],\n",
              "       [0.99, 0.01],\n",
              "       [0.  , 1.  ],\n",
              "       [0.89, 0.11],\n",
              "       [0.  , 1.  ],\n",
              "       [0.  , 1.  ],\n",
              "       [0.17, 0.83],\n",
              "       [0.89, 0.11],\n",
              "       [0.01, 0.99],\n",
              "       [1.  , 0.  ],\n",
              "       [0.99, 0.01],\n",
              "       [0.29, 0.71],\n",
              "       [0.  , 1.  ],\n",
              "       [0.  , 1.  ],\n",
              "       [0.  , 1.  ],\n",
              "       [0.85, 0.15],\n",
              "       [1.  , 0.  ],\n",
              "       [0.43, 0.57],\n",
              "       [0.17, 0.83],\n",
              "       [0.06, 0.94],\n",
              "       [0.78, 0.22],\n",
              "       [1.  , 0.  ],\n",
              "       [0.  , 1.  ],\n",
              "       [0.32, 0.68],\n",
              "       [0.  , 1.  ],\n",
              "       [0.9 , 0.1 ],\n",
              "       [1.  , 0.  ],\n",
              "       [0.15, 0.85],\n",
              "       [1.  , 0.  ],\n",
              "       [0.77, 0.23],\n",
              "       [0.9 , 0.1 ],\n",
              "       [0.  , 1.  ],\n",
              "       [0.01, 0.99],\n",
              "       [1.  , 0.  ],\n",
              "       [0.15, 0.85],\n",
              "       [0.9 , 0.1 ],\n",
              "       [0.  , 1.  ],\n",
              "       [1.  , 0.  ],\n",
              "       [1.  , 0.  ],\n",
              "       [0.  , 1.  ],\n",
              "       [0.01, 0.99],\n",
              "       [0.12, 0.88],\n",
              "       [0.9 , 0.1 ],\n",
              "       [1.  , 0.  ],\n",
              "       [0.12, 0.88],\n",
              "       [0.09, 0.91],\n",
              "       [1.  , 0.  ],\n",
              "       [0.  , 1.  ],\n",
              "       [0.9 , 0.1 ],\n",
              "       [0.15, 0.85],\n",
              "       [0.  , 1.  ],\n",
              "       [0.72, 0.28],\n",
              "       [1.  , 0.  ],\n",
              "       [0.87, 0.13],\n",
              "       [0.4 , 0.6 ],\n",
              "       [0.  , 1.  ],\n",
              "       [0.29, 0.71],\n",
              "       [1.  , 0.  ],\n",
              "       [0.12, 0.88],\n",
              "       [0.98, 0.02],\n",
              "       [0.92, 0.08],\n",
              "       [0.65, 0.35],\n",
              "       [1.  , 0.  ],\n",
              "       [0.  , 1.  ],\n",
              "       [0.94, 0.06],\n",
              "       [0.03, 0.97],\n",
              "       [0.12, 0.88],\n",
              "       [1.  , 0.  ],\n",
              "       [0.91, 0.09],\n",
              "       [0.75, 0.25],\n",
              "       [0.11, 0.89],\n",
              "       [0.17, 0.83],\n",
              "       [0.8 , 0.2 ],\n",
              "       [0.96, 0.04],\n",
              "       [0.73, 0.27],\n",
              "       [0.79, 0.21],\n",
              "       [0.11, 0.89],\n",
              "       [1.  , 0.  ],\n",
              "       [0.88, 0.12],\n",
              "       [0.94, 0.06],\n",
              "       [0.15, 0.85],\n",
              "       [0.92, 0.08],\n",
              "       [0.98, 0.02],\n",
              "       [1.  , 0.  ],\n",
              "       [0.2 , 0.8 ],\n",
              "       [0.  , 1.  ],\n",
              "       [0.89, 0.11],\n",
              "       [0.25, 0.75],\n",
              "       [0.17, 0.83],\n",
              "       [0.  , 1.  ],\n",
              "       [0.06, 0.94],\n",
              "       [0.92, 0.08],\n",
              "       [0.17, 0.83],\n",
              "       [0.  , 1.  ],\n",
              "       [0.  , 1.  ],\n",
              "       [0.06, 0.94],\n",
              "       [0.11, 0.89],\n",
              "       [0.9 , 0.1 ],\n",
              "       [0.16, 0.84],\n",
              "       [0.  , 1.  ],\n",
              "       [0.1 , 0.9 ],\n",
              "       [0.1 , 0.9 ],\n",
              "       [0.29, 0.71],\n",
              "       [0.19, 0.81],\n",
              "       [0.33, 0.67],\n",
              "       [0.07, 0.93],\n",
              "       [0.09, 0.91],\n",
              "       [0.99, 0.01],\n",
              "       [1.  , 0.  ],\n",
              "       [0.95, 0.05],\n",
              "       [0.18, 0.82],\n",
              "       [0.11, 0.89],\n",
              "       [0.03, 0.97],\n",
              "       [0.  , 1.  ],\n",
              "       [0.  , 1.  ],\n",
              "       [0.93, 0.07],\n",
              "       [0.  , 1.  ],\n",
              "       [0.33, 0.67],\n",
              "       [0.02, 0.98],\n",
              "       [0.16, 0.84],\n",
              "       [0.96, 0.04],\n",
              "       [0.29, 0.71],\n",
              "       [1.  , 0.  ],\n",
              "       [0.1 , 0.9 ],\n",
              "       [0.  , 1.  ],\n",
              "       [1.  , 0.  ],\n",
              "       [0.  , 1.  ],\n",
              "       [1.  , 0.  ],\n",
              "       [1.  , 0.  ],\n",
              "       [0.17, 0.83],\n",
              "       [0.05, 0.95],\n",
              "       [0.  , 1.  ],\n",
              "       [0.91, 0.09],\n",
              "       [0.12, 0.88],\n",
              "       [0.  , 1.  ],\n",
              "       [1.  , 0.  ],\n",
              "       [0.95, 0.05],\n",
              "       [1.  , 0.  ],\n",
              "       [1.  , 0.  ],\n",
              "       [0.14, 0.86],\n",
              "       [0.01, 0.99],\n",
              "       [0.23, 0.77],\n",
              "       [0.06, 0.94],\n",
              "       [0.21, 0.79],\n",
              "       [0.33, 0.67],\n",
              "       [0.94, 0.06],\n",
              "       [0.5 , 0.5 ],\n",
              "       [0.96, 0.04],\n",
              "       [0.09, 0.91],\n",
              "       [0.69, 0.31],\n",
              "       [0.  , 1.  ],\n",
              "       [0.  , 1.  ],\n",
              "       [0.3 , 0.7 ],\n",
              "       [1.  , 0.  ],\n",
              "       [0.86, 0.14],\n",
              "       [0.  , 1.  ],\n",
              "       [0.33, 0.67],\n",
              "       [0.95, 0.05],\n",
              "       [0.62, 0.38],\n",
              "       [1.  , 0.  ],\n",
              "       [0.  , 1.  ],\n",
              "       [0.28, 0.72],\n",
              "       [0.  , 1.  ],\n",
              "       [0.63, 0.37],\n",
              "       [0.16, 0.84],\n",
              "       [0.23, 0.77],\n",
              "       [0.33, 0.67],\n",
              "       [0.72, 0.28],\n",
              "       [0.09, 0.91],\n",
              "       [0.9 , 0.1 ],\n",
              "       [0.73, 0.27],\n",
              "       [0.06, 0.94],\n",
              "       [0.9 , 0.1 ],\n",
              "       [0.81, 0.19],\n",
              "       [1.  , 0.  ],\n",
              "       [0.96, 0.04],\n",
              "       [0.91, 0.09],\n",
              "       [0.  , 1.  ],\n",
              "       [0.29, 0.71],\n",
              "       [0.93, 0.07],\n",
              "       [1.  , 0.  ],\n",
              "       [0.92, 0.08],\n",
              "       [1.  , 0.  ],\n",
              "       [1.  , 0.  ],\n",
              "       [1.  , 0.  ],\n",
              "       [0.09, 0.91],\n",
              "       [0.  , 1.  ],\n",
              "       [0.9 , 0.1 ],\n",
              "       [0.01, 0.99],\n",
              "       [0.39, 0.61],\n",
              "       [0.1 , 0.9 ],\n",
              "       [0.38, 0.62],\n",
              "       [0.  , 1.  ],\n",
              "       [0.  , 1.  ],\n",
              "       [0.  , 1.  ],\n",
              "       [0.1 , 0.9 ],\n",
              "       [0.86, 0.14],\n",
              "       [0.92, 0.08],\n",
              "       [1.  , 0.  ],\n",
              "       [1.  , 0.  ],\n",
              "       [0.01, 0.99],\n",
              "       [0.97, 0.03],\n",
              "       [1.  , 0.  ],\n",
              "       [0.73, 0.27],\n",
              "       [0.  , 1.  ],\n",
              "       [0.84, 0.16],\n",
              "       [0.1 , 0.9 ],\n",
              "       [0.  , 1.  ],\n",
              "       [0.36, 0.64],\n",
              "       [0.84, 0.16],\n",
              "       [0.96, 0.04],\n",
              "       [0.13, 0.87],\n",
              "       [1.  , 0.  ],\n",
              "       [0.86, 0.14],\n",
              "       [0.15, 0.85],\n",
              "       [0.2 , 0.8 ],\n",
              "       [0.  , 1.  ],\n",
              "       [1.  , 0.  ],\n",
              "       [0.08, 0.92],\n",
              "       [0.  , 1.  ],\n",
              "       [0.12, 0.88],\n",
              "       [0.83, 0.17],\n",
              "       [1.  , 0.  ],\n",
              "       [0.21, 0.79],\n",
              "       [0.91, 0.09],\n",
              "       [0.33, 0.67],\n",
              "       [0.  , 1.  ],\n",
              "       [0.  , 1.  ],\n",
              "       [0.93, 0.07],\n",
              "       [0.96, 0.04],\n",
              "       [0.11, 0.89],\n",
              "       [1.  , 0.  ],\n",
              "       [1.  , 0.  ],\n",
              "       [0.91, 0.09],\n",
              "       [1.  , 0.  ],\n",
              "       [0.18, 0.82],\n",
              "       [0.95, 0.05],\n",
              "       [1.  , 0.  ],\n",
              "       [0.92, 0.08],\n",
              "       [0.13, 0.87]], dtype=float32)"
            ]
          },
          "metadata": {
            "tags": []
          },
          "execution_count": 7
        }
      ]
    },
    {
      "cell_type": "code",
      "metadata": {
        "scrolled": true,
        "colab": {
          "base_uri": "https://localhost:8080/"
        },
        "id": "aR5RJ8Q6gYc_",
        "outputId": "b9abed95-e46a-4dd6-8fe2-c69990d02f59"
      },
      "source": [
        "model.predict(test_inputs)[:,1].round(0)"
      ],
      "execution_count": 8,
      "outputs": [
        {
          "output_type": "execute_result",
          "data": {
            "text/plain": [
              "array([1., 1., 0., 1., 1., 0., 0., 1., 1., 1., 0., 0., 0., 0., 0., 0., 0.,\n",
              "       1., 1., 0., 1., 0., 0., 0., 0., 0., 0., 1., 0., 1., 0., 0., 1., 0.,\n",
              "       1., 0., 1., 1., 1., 1., 1., 0., 1., 1., 0., 0., 0., 0., 0., 0., 0.,\n",
              "       0., 0., 0., 1., 0., 0., 1., 1., 0., 1., 1., 0., 1., 0., 0., 1., 1.,\n",
              "       1., 0., 1., 1., 0., 1., 1., 1., 0., 0., 1., 0., 1., 0., 0., 0., 0.,\n",
              "       1., 1., 1., 1., 1., 0., 0., 0., 0., 0., 0., 1., 1., 1., 1., 1., 1.,\n",
              "       1., 1., 1., 0., 1., 0., 0., 1., 0., 0., 0., 1., 0., 1., 0., 0., 1.,\n",
              "       1., 0., 1., 0., 0., 0., 1., 0., 1., 1., 0., 0., 0., 0., 0., 0., 0.,\n",
              "       0., 0., 0., 1., 0., 0., 0., 0., 0., 0., 0., 0., 1., 1., 0., 0., 0.,\n",
              "       0., 1., 0., 0., 0., 1., 1., 0., 1., 0., 1., 1., 0., 0., 1., 1., 1.,\n",
              "       0., 0., 0., 1., 0., 0., 1., 1., 1., 0., 0., 0., 1., 1., 1., 1., 1.,\n",
              "       1., 0., 1., 0., 0., 0., 0., 1., 1., 0., 0., 1., 1., 1., 1., 1., 0.,\n",
              "       1., 1., 1., 1., 0., 0., 1., 0., 1., 1., 1., 0., 1., 0., 0., 1., 1.,\n",
              "       1., 1., 0., 0., 1., 1., 1., 0., 0., 1., 1., 1., 0., 0., 1., 0., 0.,\n",
              "       0., 1., 1., 0., 1., 0., 1., 0., 0., 1., 1., 1., 0., 0., 1., 1., 0.,\n",
              "       1., 0., 1., 1., 0., 0., 0., 1., 1., 1., 0., 1., 0., 0., 0., 0., 1.,\n",
              "       0., 1., 1., 0., 0., 0., 1., 1., 0., 0., 0., 0., 1., 0., 0., 0., 1.,\n",
              "       0., 0., 0., 1., 1., 0., 1., 1., 1., 1., 0., 1., 1., 1., 1., 1., 0.,\n",
              "       1., 1., 1., 1., 1., 1., 1., 1., 1., 0., 0., 0., 1., 1., 1., 1., 1.,\n",
              "       0., 1., 1., 1., 1., 0., 1., 0., 1., 1., 0., 1., 0., 0., 1., 1., 1.,\n",
              "       0., 1., 1., 0., 0., 0., 0., 1., 1., 1., 1., 1., 1., 0., 0., 0., 1.,\n",
              "       0., 1., 1., 1., 0., 0., 1., 1., 0., 0., 0., 1., 1., 1., 0., 1., 1.,\n",
              "       1., 0., 1., 0., 0., 1., 0., 0., 0., 0., 0., 1., 1., 0., 0., 0., 0.,\n",
              "       0., 0., 1., 1., 0., 1., 1., 1., 1., 1., 1., 1., 1., 0., 0., 0., 0.,\n",
              "       1., 0., 0., 0., 1., 0., 1., 1., 1., 0., 0., 1., 0., 0., 1., 1., 1.,\n",
              "       0., 1., 1., 1., 0., 0., 1., 0., 1., 1., 1., 0., 0., 1., 0., 0., 0.,\n",
              "       0., 1., 0., 0., 0., 1.], dtype=float32)"
            ]
          },
          "metadata": {
            "tags": []
          },
          "execution_count": 8
        }
      ]
    },
    {
      "cell_type": "code",
      "metadata": {
        "colab": {
          "base_uri": "https://localhost:8080/"
        },
        "id": "hAcof3ctgYc_",
        "outputId": "55de49c9-770a-4b49-bb62-bb31fbf8578f"
      },
      "source": [
        "#Utilize the argmax function to get the position of highest number.\n",
        "np.argmax(model.predict(test_inputs), axis=1)"
      ],
      "execution_count": 9,
      "outputs": [
        {
          "output_type": "execute_result",
          "data": {
            "text/plain": [
              "array([1, 1, 0, 1, 1, 0, 0, 1, 1, 1, 0, 0, 0, 0, 0, 0, 0, 1, 1, 0, 1, 0,\n",
              "       0, 0, 0, 0, 0, 1, 0, 1, 0, 0, 1, 0, 1, 0, 1, 1, 1, 1, 1, 0, 1, 1,\n",
              "       0, 0, 0, 0, 0, 0, 0, 0, 0, 0, 1, 0, 0, 1, 1, 0, 1, 1, 0, 1, 0, 0,\n",
              "       1, 1, 1, 0, 1, 1, 0, 1, 1, 1, 0, 0, 1, 0, 1, 0, 0, 0, 0, 1, 1, 1,\n",
              "       1, 1, 0, 0, 0, 0, 0, 0, 1, 1, 1, 1, 1, 1, 1, 1, 1, 0, 1, 0, 0, 1,\n",
              "       0, 0, 0, 1, 0, 1, 0, 0, 1, 1, 0, 1, 0, 0, 0, 1, 0, 1, 1, 0, 0, 0,\n",
              "       0, 0, 0, 0, 0, 0, 0, 1, 0, 0, 0, 0, 0, 0, 0, 0, 1, 1, 0, 0, 0, 0,\n",
              "       1, 0, 0, 0, 1, 1, 0, 1, 0, 1, 1, 0, 0, 1, 1, 1, 0, 0, 0, 1, 0, 0,\n",
              "       1, 1, 1, 0, 0, 0, 1, 1, 1, 1, 1, 1, 0, 1, 0, 0, 0, 0, 1, 1, 0, 0,\n",
              "       1, 1, 1, 1, 1, 0, 1, 1, 1, 1, 0, 0, 1, 0, 1, 1, 1, 0, 1, 0, 0, 1,\n",
              "       1, 1, 1, 0, 0, 1, 1, 1, 0, 0, 1, 1, 1, 0, 0, 1, 0, 0, 0, 1, 1, 0,\n",
              "       1, 0, 1, 0, 0, 1, 1, 1, 0, 0, 1, 1, 0, 1, 0, 1, 1, 0, 0, 0, 1, 1,\n",
              "       1, 0, 1, 0, 0, 0, 0, 1, 0, 1, 1, 0, 0, 0, 1, 1, 0, 0, 0, 0, 1, 0,\n",
              "       0, 0, 1, 0, 0, 0, 1, 1, 0, 1, 1, 1, 1, 0, 1, 1, 1, 1, 1, 0, 1, 1,\n",
              "       1, 1, 1, 1, 1, 1, 1, 0, 0, 0, 1, 1, 1, 1, 1, 0, 1, 1, 1, 1, 0, 1,\n",
              "       0, 1, 1, 0, 1, 0, 0, 1, 1, 1, 0, 1, 1, 0, 0, 0, 0, 1, 1, 1, 1, 1,\n",
              "       1, 0, 0, 0, 1, 0, 1, 1, 1, 0, 0, 1, 1, 0, 0, 0, 1, 1, 1, 0, 1, 1,\n",
              "       1, 0, 1, 0, 0, 1, 0, 0, 0, 0, 0, 1, 1, 0, 0, 0, 0, 0, 0, 1, 1, 0,\n",
              "       1, 1, 1, 1, 1, 1, 1, 1, 0, 0, 0, 0, 1, 0, 0, 0, 1, 0, 1, 1, 1, 0,\n",
              "       0, 1, 0, 0, 1, 1, 1, 0, 1, 1, 1, 0, 0, 1, 0, 1, 1, 1, 0, 0, 1, 0,\n",
              "       0, 0, 0, 1, 0, 0, 0, 1])"
            ]
          },
          "metadata": {
            "tags": []
          },
          "execution_count": 9
        }
      ]
    },
    {
      "cell_type": "markdown",
      "metadata": {
        "id": "dlp5t4zYgYc_"
      },
      "source": [
        "## Save the model"
      ]
    },
    {
      "cell_type": "code",
      "metadata": {
        "id": "GUOKwJGwgYdA"
      },
      "source": [
        "model.save('audiobooks_model.h5')"
      ],
      "execution_count": 10,
      "outputs": []
    },
    {
      "cell_type": "code",
      "metadata": {
        "id": "SFMBEb7SmCRq"
      },
      "source": [
        "%cp audiobooks_model.h5 ./drive/MyDrive/\n"
      ],
      "execution_count": 11,
      "outputs": []
    },
    {
      "cell_type": "code",
      "metadata": {
        "id": "gbzdSy1bmKK-"
      },
      "source": [
        ""
      ],
      "execution_count": 11,
      "outputs": []
    }
  ]
}